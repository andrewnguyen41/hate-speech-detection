{
 "cells": [
  {
   "cell_type": "markdown",
   "id": "5e86118b",
   "metadata": {},
   "source": [
    "# Importing Necessary Libraries"
   ]
  },
  {
   "cell_type": "code",
   "execution_count": 1,
   "id": "c6c1984d",
   "metadata": {},
   "outputs": [],
   "source": [
    "import pandas as pd\n",
    "import numpy as np\n",
    "import nltk\n",
    "import re\n",
    "from wordsegment import load, segment, clean\n",
    "load() #loading segment\n",
    "import matplotlib.pyplot as plt\n",
    "from keras.preprocessing.sequence import pad_sequences\n",
    "from nltk.tokenize import word_tokenize\n",
    "from nltk.stem import WordNetLemmatizer\n",
    "import swifter\n",
    "\n",
    "%matplotlib inline"
   ]
  },
  {
   "cell_type": "markdown",
   "id": "030c8cab",
   "metadata": {},
   "source": [
    "# Reading the dataset and Data Exploration"
   ]
  },
  {
   "cell_type": "code",
   "execution_count": 2,
   "id": "2ab3b82a",
   "metadata": {},
   "outputs": [
    {
     "name": "stderr",
     "output_type": "stream",
     "text": [
      "[nltk_data] Downloading package stopwords to\n",
      "[nltk_data]     /Users/nguyennhan/nltk_data...\n",
      "[nltk_data]   Package stopwords is already up-to-date!\n",
      "[nltk_data] Downloading package punkt to\n",
      "[nltk_data]     /Users/nguyennhan/nltk_data...\n",
      "[nltk_data]   Package punkt is already up-to-date!\n",
      "[nltk_data] Downloading package wordnet to\n",
      "[nltk_data]     /Users/nguyennhan/nltk_data...\n",
      "[nltk_data]   Package wordnet is already up-to-date!\n"
     ]
    },
    {
     "data": {
      "text/plain": [
       "True"
      ]
     },
     "execution_count": 2,
     "metadata": {},
     "output_type": "execute_result"
    }
   ],
   "source": [
    "nltk.download('stopwords')\n",
    "nltk.download('punkt')\n",
    "nltk.download('wordnet')"
   ]
  },
  {
   "cell_type": "code",
   "execution_count": 3,
   "id": "fe14d270",
   "metadata": {},
   "outputs": [],
   "source": [
    "df = pd.read_csv('labeled_data.csv',header = 'infer') "
   ]
  },
  {
   "cell_type": "code",
   "execution_count": 4,
   "id": "fac9d0aa",
   "metadata": {},
   "outputs": [
    {
     "data": {
      "text/html": [
       "<div>\n",
       "<style scoped>\n",
       "    .dataframe tbody tr th:only-of-type {\n",
       "        vertical-align: middle;\n",
       "    }\n",
       "\n",
       "    .dataframe tbody tr th {\n",
       "        vertical-align: top;\n",
       "    }\n",
       "\n",
       "    .dataframe thead th {\n",
       "        text-align: right;\n",
       "    }\n",
       "</style>\n",
       "<table border=\"1\" class=\"dataframe\">\n",
       "  <thead>\n",
       "    <tr style=\"text-align: right;\">\n",
       "      <th></th>\n",
       "      <th>tweet</th>\n",
       "      <th>Class Label</th>\n",
       "    </tr>\n",
       "  </thead>\n",
       "  <tbody>\n",
       "    <tr>\n",
       "      <th>0</th>\n",
       "      <td>!!! RT @mayasolovely: As a woman you shouldn't...</td>\n",
       "      <td>2</td>\n",
       "    </tr>\n",
       "    <tr>\n",
       "      <th>1</th>\n",
       "      <td>!!!!! RT @mleew17: boy dats cold...tyga dwn ba...</td>\n",
       "      <td>1</td>\n",
       "    </tr>\n",
       "    <tr>\n",
       "      <th>2</th>\n",
       "      <td>!!!!!!! RT @UrKindOfBrand Dawg!!!! RT @80sbaby...</td>\n",
       "      <td>1</td>\n",
       "    </tr>\n",
       "    <tr>\n",
       "      <th>3</th>\n",
       "      <td>!!!!!!!!! RT @C_G_Anderson: @viva_based she lo...</td>\n",
       "      <td>1</td>\n",
       "    </tr>\n",
       "    <tr>\n",
       "      <th>4</th>\n",
       "      <td>!!!!!!!!!!!!! RT @ShenikaRoberts: The shit you...</td>\n",
       "      <td>1</td>\n",
       "    </tr>\n",
       "    <tr>\n",
       "      <th>...</th>\n",
       "      <td>...</td>\n",
       "      <td>...</td>\n",
       "    </tr>\n",
       "    <tr>\n",
       "      <th>24778</th>\n",
       "      <td>you's a muthaf***in lie &amp;#8220;@LifeAsKing: @2...</td>\n",
       "      <td>1</td>\n",
       "    </tr>\n",
       "    <tr>\n",
       "      <th>24779</th>\n",
       "      <td>you've gone and broke the wrong heart baby, an...</td>\n",
       "      <td>2</td>\n",
       "    </tr>\n",
       "    <tr>\n",
       "      <th>24780</th>\n",
       "      <td>young buck wanna eat!!.. dat nigguh like I ain...</td>\n",
       "      <td>1</td>\n",
       "    </tr>\n",
       "    <tr>\n",
       "      <th>24781</th>\n",
       "      <td>youu got wild bitches tellin you lies</td>\n",
       "      <td>1</td>\n",
       "    </tr>\n",
       "    <tr>\n",
       "      <th>24782</th>\n",
       "      <td>~~Ruffled | Ntac Eileen Dahlia - Beautiful col...</td>\n",
       "      <td>2</td>\n",
       "    </tr>\n",
       "  </tbody>\n",
       "</table>\n",
       "<p>24783 rows × 2 columns</p>\n",
       "</div>"
      ],
      "text/plain": [
       "                                                   tweet  Class Label\n",
       "0      !!! RT @mayasolovely: As a woman you shouldn't...            2\n",
       "1      !!!!! RT @mleew17: boy dats cold...tyga dwn ba...            1\n",
       "2      !!!!!!! RT @UrKindOfBrand Dawg!!!! RT @80sbaby...            1\n",
       "3      !!!!!!!!! RT @C_G_Anderson: @viva_based she lo...            1\n",
       "4      !!!!!!!!!!!!! RT @ShenikaRoberts: The shit you...            1\n",
       "...                                                  ...          ...\n",
       "24778  you's a muthaf***in lie &#8220;@LifeAsKing: @2...            1\n",
       "24779  you've gone and broke the wrong heart baby, an...            2\n",
       "24780  young buck wanna eat!!.. dat nigguh like I ain...            1\n",
       "24781              youu got wild bitches tellin you lies            1\n",
       "24782  ~~Ruffled | Ntac Eileen Dahlia - Beautiful col...            2\n",
       "\n",
       "[24783 rows x 2 columns]"
      ]
     },
     "execution_count": 4,
     "metadata": {},
     "output_type": "execute_result"
    }
   ],
   "source": [
    "df"
   ]
  },
  {
   "cell_type": "code",
   "execution_count": 5,
   "id": "4e8f2cfe",
   "metadata": {},
   "outputs": [
    {
     "name": "stdout",
     "output_type": "stream",
     "text": [
      "number of rows and columns i.e. dimension of the dataset:  (24783, 2)\n",
      "\n",
      "column names of the dataset:  Index(['tweet', 'Class Label'], dtype='object')\n"
     ]
    }
   ],
   "source": [
    "print('number of rows and columns i.e. dimension of the dataset: ',df.shape)\n",
    "print('\\ncolumn names of the dataset: ',df.columns)"
   ]
  },
  {
   "cell_type": "markdown",
   "id": "a72eb596",
   "metadata": {},
   "source": [
    "## Separating the tweets and class label"
   ]
  },
  {
   "cell_type": "code",
   "execution_count": 6,
   "id": "652a8c97",
   "metadata": {},
   "outputs": [],
   "source": [
    "ClassLabel = df['Class Label']\n",
    "tweets = df.tweet"
   ]
  },
  {
   "cell_type": "markdown",
   "id": "beb261c7",
   "metadata": {},
   "source": [
    "### Plotting the class label"
   ]
  },
  {
   "cell_type": "code",
   "execution_count": 7,
   "id": "baf1f254",
   "metadata": {},
   "outputs": [
    {
     "data": {
      "image/png": "[encoded data removed]",
      "text/plain": [
       "<Figure size 600x600 with 1 Axes>"
      ]
     },
     "metadata": {},
     "output_type": "display_data"
    }
   ],
   "source": [
    "fig, ax = plt.subplots(figsize = (6, 6))\n",
    "ax.spines['right'].set_visible(False)\n",
    "ax.spines['top'].set_visible(False)\n",
    "ax.spines['left'].set_visible(False)\n",
    "plt.hist(ClassLabel, bins=5, color='#33FF83', density=False, edgecolor='black')\n",
    "plt.title('HateSpeech Classification Initial Histogram')\n",
    "plt.xlabel('Classes \\n0 - HateSpeech, 1 - Offensive Laguage, 2- Neither')\n",
    "plt.ylabel('Number of Tweets')\n",
    "plt.show()"
   ]
  },
  {
   "cell_type": "markdown",
   "id": "fdc97597",
   "metadata": {},
   "source": [
    "# Preprocessing"
   ]
  },
  {
   "cell_type": "code",
   "execution_count": 8,
   "id": "50953544",
   "metadata": {},
   "outputs": [
    {
     "name": "stdout",
     "output_type": "stream",
     "text": [
      "0        !!! RT @mayasolovely: As a woman you shouldn't...\n",
      "1        !!!!! RT @mleew17: boy dats cold...tyga dwn ba...\n",
      "2        !!!!!!! RT @UrKindOfBrand Dawg!!!! RT @80sbaby...\n",
      "3        !!!!!!!!! RT @C_G_Anderson: @viva_based she lo...\n",
      "4        !!!!!!!!!!!!! RT @ShenikaRoberts: The shit you...\n",
      "                               ...                        \n",
      "24778    you's a muthaf***in lie &#8220;@LifeAsKing: @2...\n",
      "24779    you've gone and broke the wrong heart baby, an...\n",
      "24780    young buck wanna eat!!.. dat nigguh like I ain...\n",
      "24781                youu got wild bitches tellin you lies\n",
      "24782    ~~Ruffled | Ntac Eileen Dahlia - Beautiful col...\n",
      "Name: tweet, Length: 24783, dtype: object\n"
     ]
    }
   ],
   "source": [
    "print(tweets)"
   ]
  },
  {
   "cell_type": "code",
   "execution_count": 21,
   "id": "ef94b6b8",
   "metadata": {},
   "outputs": [
    {
     "ename": "KeyboardInterrupt",
     "evalue": "",
     "output_type": "error",
     "traceback": [
      "\u001b[0;31m---------------------------------------------------------------------------\u001b[0m",
      "\u001b[0;31mTypeError\u001b[0m                                 Traceback (most recent call last)",
      "File \u001b[0;32m/opt/homebrew/lib/python3.11/site-packages/swifter/swifter.py:310\u001b[0m, in \u001b[0;36mSeriesAccessor.apply\u001b[0;34m(self, func, convert_dtype, args, **kwds)\u001b[0m\n\u001b[1;32m    309\u001b[0m \u001b[38;5;28;01mwith\u001b[39;00m suppress_stdout_stderr_logging():\n\u001b[0;32m--> 310\u001b[0m     tmp_df \u001b[38;5;241m=\u001b[39m \u001b[43mfunc\u001b[49m\u001b[43m(\u001b[49m\u001b[43msample\u001b[49m\u001b[43m,\u001b[49m\u001b[43m \u001b[49m\u001b[38;5;241;43m*\u001b[39;49m\u001b[43margs\u001b[49m\u001b[43m,\u001b[49m\u001b[43m \u001b[49m\u001b[38;5;241;43m*\u001b[39;49m\u001b[38;5;241;43m*\u001b[39;49m\u001b[43mkwds\u001b[49m\u001b[43m)\u001b[49m\n\u001b[1;32m    311\u001b[0m     sample_df \u001b[38;5;241m=\u001b[39m sample\u001b[38;5;241m.\u001b[39mapply(func, convert_dtype\u001b[38;5;241m=\u001b[39mconvert_dtype, args\u001b[38;5;241m=\u001b[39margs, \u001b[38;5;241m*\u001b[39m\u001b[38;5;241m*\u001b[39mkwds)\n",
      "Cell \u001b[0;32mIn[21], line 20\u001b[0m, in \u001b[0;36mpreprocess\u001b[0;34m(tweet)\u001b[0m\n\u001b[1;32m     19\u001b[0m \u001b[38;5;28;01mdef\u001b[39;00m \u001b[38;5;21mpreprocess\u001b[39m(tweet):\n\u001b[0;32m---> 20\u001b[0m     tweet \u001b[38;5;241m=\u001b[39m \u001b[43mre\u001b[49m\u001b[38;5;241;43m.\u001b[39;49m\u001b[43msub\u001b[49m\u001b[43m(\u001b[49m\u001b[43mspace_pattern\u001b[49m\u001b[43m,\u001b[49m\u001b[43m \u001b[49m\u001b[38;5;124;43m'\u001b[39;49m\u001b[38;5;124;43m \u001b[39;49m\u001b[38;5;124;43m'\u001b[39;49m\u001b[43m,\u001b[49m\u001b[43m \u001b[49m\u001b[43mtweet\u001b[49m\u001b[43m)\u001b[49m\n\u001b[1;32m     21\u001b[0m     tweet \u001b[38;5;241m=\u001b[39m re\u001b[38;5;241m.\u001b[39msub(giant_url_regex, \u001b[38;5;124m'\u001b[39m\u001b[38;5;124m'\u001b[39m, tweet)\n",
      "File \u001b[0;32m/opt/homebrew/Cellar/python@3.11/3.11.4/Frameworks/Python.framework/Versions/3.11/lib/python3.11/re/__init__.py:185\u001b[0m, in \u001b[0;36msub\u001b[0;34m(pattern, repl, string, count, flags)\u001b[0m\n\u001b[1;32m    179\u001b[0m \u001b[38;5;250m\u001b[39m\u001b[38;5;124;03m\"\"\"Return the string obtained by replacing the leftmost\u001b[39;00m\n\u001b[1;32m    180\u001b[0m \u001b[38;5;124;03mnon-overlapping occurrences of the pattern in string by the\u001b[39;00m\n\u001b[1;32m    181\u001b[0m \u001b[38;5;124;03mreplacement repl.  repl can be either a string or a callable;\u001b[39;00m\n\u001b[1;32m    182\u001b[0m \u001b[38;5;124;03mif a string, backslash escapes in it are processed.  If it is\u001b[39;00m\n\u001b[1;32m    183\u001b[0m \u001b[38;5;124;03ma callable, it's passed the Match object and must return\u001b[39;00m\n\u001b[1;32m    184\u001b[0m \u001b[38;5;124;03ma replacement string to be used.\"\"\"\u001b[39;00m\n\u001b[0;32m--> 185\u001b[0m \u001b[38;5;28;01mreturn\u001b[39;00m \u001b[43m_compile\u001b[49m\u001b[43m(\u001b[49m\u001b[43mpattern\u001b[49m\u001b[43m,\u001b[49m\u001b[43m \u001b[49m\u001b[43mflags\u001b[49m\u001b[43m)\u001b[49m\u001b[38;5;241;43m.\u001b[39;49m\u001b[43msub\u001b[49m\u001b[43m(\u001b[49m\u001b[43mrepl\u001b[49m\u001b[43m,\u001b[49m\u001b[43m \u001b[49m\u001b[43mstring\u001b[49m\u001b[43m,\u001b[49m\u001b[43m \u001b[49m\u001b[43mcount\u001b[49m\u001b[43m)\u001b[49m\n",
      "\u001b[0;31mTypeError\u001b[0m: expected string or bytes-like object, got 'Series'",
      "\nDuring handling of the above exception, another exception occurred:\n",
      "\u001b[0;31mKeyboardInterrupt\u001b[0m                         Traceback (most recent call last)",
      "Cell \u001b[0;32mIn[21], line 44\u001b[0m\n\u001b[1;32m     40\u001b[0m     \u001b[38;5;28;01mreturn\u001b[39;00m tweet\n\u001b[1;32m     42\u001b[0m \u001b[38;5;66;03m# preprocess(\"RT @KarenRFM: No-TV-During-the-Week #parenting rule has thrown quite a monkey wrench into #RooseveltsPBS viewing schedule. #DVRtime @wcve #&#8230;,2\")\u001b[39;00m\n\u001b[0;32m---> 44\u001b[0m corpus \u001b[38;5;241m=\u001b[39m \u001b[43mtweets\u001b[49m\u001b[38;5;241;43m.\u001b[39;49m\u001b[43mswifter\u001b[49m\u001b[38;5;241;43m.\u001b[39;49m\u001b[43mapply\u001b[49m\u001b[43m(\u001b[49m\u001b[43mpreprocess\u001b[49m\u001b[43m)\u001b[49m\n",
      "File \u001b[0;32m/opt/homebrew/lib/python3.11/site-packages/swifter/swifter.py:319\u001b[0m, in \u001b[0;36mSeriesAccessor.apply\u001b[0;34m(self, func, convert_dtype, args, **kwds)\u001b[0m\n\u001b[1;32m    317\u001b[0m \u001b[38;5;28;01mexcept\u001b[39;00m ERRORS_TO_HANDLE:  \u001b[38;5;66;03m# if can't vectorize, estimate time to pandas apply\u001b[39;00m\n\u001b[1;32m    318\u001b[0m     wrapped \u001b[38;5;241m=\u001b[39m \u001b[38;5;28mself\u001b[39m\u001b[38;5;241m.\u001b[39m_wrapped_apply(func, convert_dtype\u001b[38;5;241m=\u001b[39mconvert_dtype, args\u001b[38;5;241m=\u001b[39margs, \u001b[38;5;241m*\u001b[39m\u001b[38;5;241m*\u001b[39mkwds)\n\u001b[0;32m--> 319\u001b[0m     timed \u001b[38;5;241m=\u001b[39m \u001b[43mtimeit\u001b[49m\u001b[38;5;241;43m.\u001b[39;49m\u001b[43mtimeit\u001b[49m\u001b[43m(\u001b[49m\u001b[43mwrapped\u001b[49m\u001b[43m,\u001b[49m\u001b[43m \u001b[49m\u001b[43mnumber\u001b[49m\u001b[38;5;241;43m=\u001b[39;49m\u001b[43mN_REPEATS\u001b[49m\u001b[43m)\u001b[49m\n\u001b[1;32m    320\u001b[0m     sample_proc_est \u001b[38;5;241m=\u001b[39m timed \u001b[38;5;241m/\u001b[39m N_REPEATS\n\u001b[1;32m    321\u001b[0m     est_apply_duration \u001b[38;5;241m=\u001b[39m sample_proc_est \u001b[38;5;241m/\u001b[39m \u001b[38;5;28mself\u001b[39m\u001b[38;5;241m.\u001b[39m_SAMPLE_SIZE \u001b[38;5;241m*\u001b[39m \u001b[38;5;28mself\u001b[39m\u001b[38;5;241m.\u001b[39m_nrows\n",
      "File \u001b[0;32m/opt/homebrew/Cellar/python@3.11/3.11.4/Frameworks/Python.framework/Versions/3.11/lib/python3.11/timeit.py:234\u001b[0m, in \u001b[0;36mtimeit\u001b[0;34m(stmt, setup, timer, number, globals)\u001b[0m\n\u001b[1;32m    231\u001b[0m \u001b[38;5;28;01mdef\u001b[39;00m \u001b[38;5;21mtimeit\u001b[39m(stmt\u001b[38;5;241m=\u001b[39m\u001b[38;5;124m\"\u001b[39m\u001b[38;5;124mpass\u001b[39m\u001b[38;5;124m\"\u001b[39m, setup\u001b[38;5;241m=\u001b[39m\u001b[38;5;124m\"\u001b[39m\u001b[38;5;124mpass\u001b[39m\u001b[38;5;124m\"\u001b[39m, timer\u001b[38;5;241m=\u001b[39mdefault_timer,\n\u001b[1;32m    232\u001b[0m            number\u001b[38;5;241m=\u001b[39mdefault_number, \u001b[38;5;28mglobals\u001b[39m\u001b[38;5;241m=\u001b[39m\u001b[38;5;28;01mNone\u001b[39;00m):\n\u001b[1;32m    233\u001b[0m \u001b[38;5;250m    \u001b[39m\u001b[38;5;124;03m\"\"\"Convenience function to create Timer object and call timeit method.\"\"\"\u001b[39;00m\n\u001b[0;32m--> 234\u001b[0m     \u001b[38;5;28;01mreturn\u001b[39;00m \u001b[43mTimer\u001b[49m\u001b[43m(\u001b[49m\u001b[43mstmt\u001b[49m\u001b[43m,\u001b[49m\u001b[43m \u001b[49m\u001b[43msetup\u001b[49m\u001b[43m,\u001b[49m\u001b[43m \u001b[49m\u001b[43mtimer\u001b[49m\u001b[43m,\u001b[49m\u001b[43m \u001b[49m\u001b[38;5;28;43mglobals\u001b[39;49m\u001b[43m)\u001b[49m\u001b[38;5;241;43m.\u001b[39;49m\u001b[43mtimeit\u001b[49m\u001b[43m(\u001b[49m\u001b[43mnumber\u001b[49m\u001b[43m)\u001b[49m\n",
      "File \u001b[0;32m/opt/homebrew/Cellar/python@3.11/3.11.4/Frameworks/Python.framework/Versions/3.11/lib/python3.11/timeit.py:178\u001b[0m, in \u001b[0;36mTimer.timeit\u001b[0;34m(self, number)\u001b[0m\n\u001b[1;32m    176\u001b[0m gc\u001b[38;5;241m.\u001b[39mdisable()\n\u001b[1;32m    177\u001b[0m \u001b[38;5;28;01mtry\u001b[39;00m:\n\u001b[0;32m--> 178\u001b[0m     timing \u001b[38;5;241m=\u001b[39m \u001b[38;5;28;43mself\u001b[39;49m\u001b[38;5;241;43m.\u001b[39;49m\u001b[43minner\u001b[49m\u001b[43m(\u001b[49m\u001b[43mit\u001b[49m\u001b[43m,\u001b[49m\u001b[43m \u001b[49m\u001b[38;5;28;43mself\u001b[39;49m\u001b[38;5;241;43m.\u001b[39;49m\u001b[43mtimer\u001b[49m\u001b[43m)\u001b[49m\n\u001b[1;32m    179\u001b[0m \u001b[38;5;28;01mfinally\u001b[39;00m:\n\u001b[1;32m    180\u001b[0m     \u001b[38;5;28;01mif\u001b[39;00m gcold:\n",
      "File \u001b[0;32m<timeit-src>:6\u001b[0m, in \u001b[0;36minner\u001b[0;34m(_it, _timer, _stmt)\u001b[0m\n",
      "File \u001b[0;32m/opt/homebrew/lib/python3.11/site-packages/swifter/swifter.py:227\u001b[0m, in \u001b[0;36mSeriesAccessor._wrapped_apply.<locals>.wrapped\u001b[0;34m()\u001b[0m\n\u001b[1;32m    225\u001b[0m \u001b[38;5;28;01mdef\u001b[39;00m \u001b[38;5;21mwrapped\u001b[39m():\n\u001b[1;32m    226\u001b[0m     \u001b[38;5;28;01mwith\u001b[39;00m suppress_stdout_stderr_logging():\n\u001b[0;32m--> 227\u001b[0m         \u001b[38;5;28;43mself\u001b[39;49m\u001b[38;5;241;43m.\u001b[39;49m\u001b[43m_obj\u001b[49m\u001b[38;5;241;43m.\u001b[39;49m\u001b[43miloc\u001b[49m\u001b[43m[\u001b[49m\u001b[38;5;28;43mself\u001b[39;49m\u001b[38;5;241;43m.\u001b[39;49m\u001b[43m_SAMPLE_INDEX\u001b[49m\u001b[43m]\u001b[49m\u001b[38;5;241;43m.\u001b[39;49m\u001b[43mapply\u001b[49m\u001b[43m(\u001b[49m\u001b[43mfunc\u001b[49m\u001b[43m,\u001b[49m\u001b[43m \u001b[49m\u001b[43mconvert_dtype\u001b[49m\u001b[38;5;241;43m=\u001b[39;49m\u001b[43mconvert_dtype\u001b[49m\u001b[43m,\u001b[49m\u001b[43m \u001b[49m\u001b[43margs\u001b[49m\u001b[38;5;241;43m=\u001b[39;49m\u001b[43margs\u001b[49m\u001b[43m,\u001b[49m\u001b[43m \u001b[49m\u001b[38;5;241;43m*\u001b[39;49m\u001b[38;5;241;43m*\u001b[39;49m\u001b[43mkwds\u001b[49m\u001b[43m)\u001b[49m\n",
      "File \u001b[0;32m/opt/homebrew/lib/python3.11/site-packages/pandas/core/series.py:4626\u001b[0m, in \u001b[0;36mSeries.apply\u001b[0;34m(self, func, convert_dtype, args, **kwargs)\u001b[0m\n\u001b[1;32m   4516\u001b[0m \u001b[38;5;28;01mdef\u001b[39;00m \u001b[38;5;21mapply\u001b[39m(\n\u001b[1;32m   4517\u001b[0m     \u001b[38;5;28mself\u001b[39m,\n\u001b[1;32m   4518\u001b[0m     func: AggFuncType,\n\u001b[0;32m   (...)\u001b[0m\n\u001b[1;32m   4521\u001b[0m     \u001b[38;5;241m*\u001b[39m\u001b[38;5;241m*\u001b[39mkwargs,\n\u001b[1;32m   4522\u001b[0m ) \u001b[38;5;241m-\u001b[39m\u001b[38;5;241m>\u001b[39m DataFrame \u001b[38;5;241m|\u001b[39m Series:\n\u001b[1;32m   4523\u001b[0m \u001b[38;5;250m    \u001b[39m\u001b[38;5;124;03m\"\"\"\u001b[39;00m\n\u001b[1;32m   4524\u001b[0m \u001b[38;5;124;03m    Invoke function on values of Series.\u001b[39;00m\n\u001b[1;32m   4525\u001b[0m \n\u001b[0;32m   (...)\u001b[0m\n\u001b[1;32m   4624\u001b[0m \u001b[38;5;124;03m    dtype: float64\u001b[39;00m\n\u001b[1;32m   4625\u001b[0m \u001b[38;5;124;03m    \"\"\"\u001b[39;00m\n\u001b[0;32m-> 4626\u001b[0m     \u001b[38;5;28;01mreturn\u001b[39;00m \u001b[43mSeriesApply\u001b[49m\u001b[43m(\u001b[49m\u001b[38;5;28;43mself\u001b[39;49m\u001b[43m,\u001b[49m\u001b[43m \u001b[49m\u001b[43mfunc\u001b[49m\u001b[43m,\u001b[49m\u001b[43m \u001b[49m\u001b[43mconvert_dtype\u001b[49m\u001b[43m,\u001b[49m\u001b[43m \u001b[49m\u001b[43margs\u001b[49m\u001b[43m,\u001b[49m\u001b[43m \u001b[49m\u001b[43mkwargs\u001b[49m\u001b[43m)\u001b[49m\u001b[38;5;241;43m.\u001b[39;49m\u001b[43mapply\u001b[49m\u001b[43m(\u001b[49m\u001b[43m)\u001b[49m\n",
      "File \u001b[0;32m/opt/homebrew/lib/python3.11/site-packages/pandas/core/apply.py:1025\u001b[0m, in \u001b[0;36mSeriesApply.apply\u001b[0;34m(self)\u001b[0m\n\u001b[1;32m   1022\u001b[0m     \u001b[38;5;28;01mreturn\u001b[39;00m \u001b[38;5;28mself\u001b[39m\u001b[38;5;241m.\u001b[39mapply_str()\n\u001b[1;32m   1024\u001b[0m \u001b[38;5;66;03m# self.f is Callable\u001b[39;00m\n\u001b[0;32m-> 1025\u001b[0m \u001b[38;5;28;01mreturn\u001b[39;00m \u001b[38;5;28;43mself\u001b[39;49m\u001b[38;5;241;43m.\u001b[39;49m\u001b[43mapply_standard\u001b[49m\u001b[43m(\u001b[49m\u001b[43m)\u001b[49m\n",
      "File \u001b[0;32m/opt/homebrew/lib/python3.11/site-packages/pandas/core/apply.py:1076\u001b[0m, in \u001b[0;36mSeriesApply.apply_standard\u001b[0;34m(self)\u001b[0m\n\u001b[1;32m   1074\u001b[0m     \u001b[38;5;28;01melse\u001b[39;00m:\n\u001b[1;32m   1075\u001b[0m         values \u001b[38;5;241m=\u001b[39m obj\u001b[38;5;241m.\u001b[39mastype(\u001b[38;5;28mobject\u001b[39m)\u001b[38;5;241m.\u001b[39m_values\n\u001b[0;32m-> 1076\u001b[0m         mapped \u001b[38;5;241m=\u001b[39m \u001b[43mlib\u001b[49m\u001b[38;5;241;43m.\u001b[39;49m\u001b[43mmap_infer\u001b[49m\u001b[43m(\u001b[49m\n\u001b[1;32m   1077\u001b[0m \u001b[43m            \u001b[49m\u001b[43mvalues\u001b[49m\u001b[43m,\u001b[49m\n\u001b[1;32m   1078\u001b[0m \u001b[43m            \u001b[49m\u001b[43mf\u001b[49m\u001b[43m,\u001b[49m\n\u001b[1;32m   1079\u001b[0m \u001b[43m            \u001b[49m\u001b[43mconvert\u001b[49m\u001b[38;5;241;43m=\u001b[39;49m\u001b[38;5;28;43mself\u001b[39;49m\u001b[38;5;241;43m.\u001b[39;49m\u001b[43mconvert_dtype\u001b[49m\u001b[43m,\u001b[49m\n\u001b[1;32m   1080\u001b[0m \u001b[43m        \u001b[49m\u001b[43m)\u001b[49m\n\u001b[1;32m   1082\u001b[0m \u001b[38;5;28;01mif\u001b[39;00m \u001b[38;5;28mlen\u001b[39m(mapped) \u001b[38;5;129;01mand\u001b[39;00m \u001b[38;5;28misinstance\u001b[39m(mapped[\u001b[38;5;241m0\u001b[39m], ABCSeries):\n\u001b[1;32m   1083\u001b[0m     \u001b[38;5;66;03m# GH#43986 Need to do list(mapped) in order to get treated as nested\u001b[39;00m\n\u001b[1;32m   1084\u001b[0m     \u001b[38;5;66;03m#  See also GH#25959 regarding EA support\u001b[39;00m\n\u001b[1;32m   1085\u001b[0m     \u001b[38;5;28;01mreturn\u001b[39;00m obj\u001b[38;5;241m.\u001b[39m_constructor_expanddim(\u001b[38;5;28mlist\u001b[39m(mapped), index\u001b[38;5;241m=\u001b[39mobj\u001b[38;5;241m.\u001b[39mindex)\n",
      "File \u001b[0;32m/opt/homebrew/lib/python3.11/site-packages/pandas/_libs/lib.pyx:2834\u001b[0m, in \u001b[0;36mpandas._libs.lib.map_infer\u001b[0;34m()\u001b[0m\n",
      "Cell \u001b[0;32mIn[21], line 30\u001b[0m, in \u001b[0;36mpreprocess\u001b[0;34m(tweet)\u001b[0m\n\u001b[1;32m     27\u001b[0m \u001b[38;5;28mprint\u001b[39m(tweet)\n\u001b[1;32m     29\u001b[0m tweet \u001b[38;5;241m=\u001b[39m clean(tweet)                                  \u001b[38;5;66;03m# 3.1.3 - cleaning data for segmentation\u001b[39;00m\n\u001b[0;32m---> 30\u001b[0m words \u001b[38;5;241m=\u001b[39m \u001b[43msegment\u001b[49m\u001b[43m(\u001b[49m\u001b[43mtweet\u001b[49m\u001b[43m)\u001b[49m                                \u001b[38;5;66;03m# 3.1.3 - word segmentation using word segment module\u001b[39;00m\n\u001b[1;32m     32\u001b[0m \u001b[38;5;28mprint\u001b[39m(\u001b[38;5;124m\"\u001b[39m\u001b[38;5;124m \u001b[39m\u001b[38;5;124m\"\u001b[39m\u001b[38;5;241m.\u001b[39mjoin(words))\n\u001b[1;32m     33\u001b[0m filtered_tokens \u001b[38;5;241m=\u001b[39m [w \u001b[38;5;28;01mfor\u001b[39;00m w \u001b[38;5;129;01min\u001b[39;00m words \u001b[38;5;28;01mif\u001b[39;00m \u001b[38;5;129;01mnot\u001b[39;00m w \u001b[38;5;129;01min\u001b[39;00m exclusions]\n",
      "File \u001b[0;32m/opt/homebrew/lib/python3.11/site-packages/wordsegment/__init__.py:167\u001b[0m, in \u001b[0;36mSegmenter.segment\u001b[0;34m(self, text)\u001b[0m\n\u001b[1;32m    165\u001b[0m \u001b[38;5;28;01mdef\u001b[39;00m \u001b[38;5;21msegment\u001b[39m(\u001b[38;5;28mself\u001b[39m, text):\n\u001b[1;32m    166\u001b[0m     \u001b[38;5;124m\"\u001b[39m\u001b[38;5;124mReturn list of words that is the best segmenation of `text`.\u001b[39m\u001b[38;5;124m\"\u001b[39m\n\u001b[0;32m--> 167\u001b[0m     \u001b[38;5;28;01mreturn\u001b[39;00m \u001b[38;5;28mlist\u001b[39m(\u001b[38;5;28mself\u001b[39m\u001b[38;5;241m.\u001b[39misegment(text))\n",
      "File \u001b[0;32m/opt/homebrew/lib/python3.11/site-packages/wordsegment/__init__.py:153\u001b[0m, in \u001b[0;36mSegmenter.isegment\u001b[0;34m(self, text)\u001b[0m\n\u001b[1;32m    151\u001b[0m \u001b[38;5;28;01mfor\u001b[39;00m offset \u001b[38;5;129;01min\u001b[39;00m \u001b[38;5;28mrange\u001b[39m(\u001b[38;5;241m0\u001b[39m, \u001b[38;5;28mlen\u001b[39m(clean_text), size):\n\u001b[1;32m    152\u001b[0m     chunk \u001b[38;5;241m=\u001b[39m clean_text[offset:(offset \u001b[38;5;241m+\u001b[39m size)]\n\u001b[0;32m--> 153\u001b[0m     _, chunk_words \u001b[38;5;241m=\u001b[39m \u001b[43msearch\u001b[49m\u001b[43m(\u001b[49m\u001b[43mprefix\u001b[49m\u001b[43m \u001b[49m\u001b[38;5;241;43m+\u001b[39;49m\u001b[43m \u001b[49m\u001b[43mchunk\u001b[49m\u001b[43m)\u001b[49m\n\u001b[1;32m    154\u001b[0m     prefix \u001b[38;5;241m=\u001b[39m \u001b[38;5;124m'\u001b[39m\u001b[38;5;124m'\u001b[39m\u001b[38;5;241m.\u001b[39mjoin(chunk_words[\u001b[38;5;241m-\u001b[39m\u001b[38;5;241m5\u001b[39m:])\n\u001b[1;32m    155\u001b[0m     \u001b[38;5;28;01mdel\u001b[39;00m chunk_words[\u001b[38;5;241m-\u001b[39m\u001b[38;5;241m5\u001b[39m:]\n",
      "File \u001b[0;32m/opt/homebrew/lib/python3.11/site-packages/wordsegment/__init__.py:140\u001b[0m, in \u001b[0;36mSegmenter.isegment.<locals>.search\u001b[0;34m(text, previous)\u001b[0m\n\u001b[1;32m    136\u001b[0m         suffix_score, suffix_words \u001b[38;5;241m=\u001b[39m memo[pair]\n\u001b[1;32m    138\u001b[0m         \u001b[38;5;28;01myield\u001b[39;00m (prefix_score \u001b[38;5;241m+\u001b[39m suffix_score, [prefix] \u001b[38;5;241m+\u001b[39m suffix_words)\n\u001b[0;32m--> 140\u001b[0m \u001b[38;5;28;01mreturn\u001b[39;00m \u001b[38;5;28;43mmax\u001b[39;49m\u001b[43m(\u001b[49m\u001b[43mcandidates\u001b[49m\u001b[43m(\u001b[49m\u001b[43m)\u001b[49m\u001b[43m)\u001b[49m\n",
      "File \u001b[0;32m/opt/homebrew/lib/python3.11/site-packages/wordsegment/__init__.py:135\u001b[0m, in \u001b[0;36mSegmenter.isegment.<locals>.search.<locals>.candidates\u001b[0;34m()\u001b[0m\n\u001b[1;32m    133\u001b[0m pair \u001b[38;5;241m=\u001b[39m (suffix, prefix)\n\u001b[1;32m    134\u001b[0m \u001b[38;5;28;01mif\u001b[39;00m pair \u001b[38;5;129;01mnot\u001b[39;00m \u001b[38;5;129;01min\u001b[39;00m memo:\n\u001b[0;32m--> 135\u001b[0m     memo[pair] \u001b[38;5;241m=\u001b[39m \u001b[43msearch\u001b[49m\u001b[43m(\u001b[49m\u001b[43msuffix\u001b[49m\u001b[43m,\u001b[49m\u001b[43m \u001b[49m\u001b[43mprefix\u001b[49m\u001b[43m)\u001b[49m\n\u001b[1;32m    136\u001b[0m suffix_score, suffix_words \u001b[38;5;241m=\u001b[39m memo[pair]\n\u001b[1;32m    138\u001b[0m \u001b[38;5;28;01myield\u001b[39;00m (prefix_score \u001b[38;5;241m+\u001b[39m suffix_score, [prefix] \u001b[38;5;241m+\u001b[39m suffix_words)\n",
      "File \u001b[0;32m/opt/homebrew/lib/python3.11/site-packages/wordsegment/__init__.py:140\u001b[0m, in \u001b[0;36mSegmenter.isegment.<locals>.search\u001b[0;34m(text, previous)\u001b[0m\n\u001b[1;32m    136\u001b[0m         suffix_score, suffix_words \u001b[38;5;241m=\u001b[39m memo[pair]\n\u001b[1;32m    138\u001b[0m         \u001b[38;5;28;01myield\u001b[39;00m (prefix_score \u001b[38;5;241m+\u001b[39m suffix_score, [prefix] \u001b[38;5;241m+\u001b[39m suffix_words)\n\u001b[0;32m--> 140\u001b[0m \u001b[38;5;28;01mreturn\u001b[39;00m \u001b[38;5;28;43mmax\u001b[39;49m\u001b[43m(\u001b[49m\u001b[43mcandidates\u001b[49m\u001b[43m(\u001b[49m\u001b[43m)\u001b[49m\u001b[43m)\u001b[49m\n",
      "File \u001b[0;32m/opt/homebrew/lib/python3.11/site-packages/wordsegment/__init__.py:135\u001b[0m, in \u001b[0;36mSegmenter.isegment.<locals>.search.<locals>.candidates\u001b[0;34m()\u001b[0m\n\u001b[1;32m    133\u001b[0m pair \u001b[38;5;241m=\u001b[39m (suffix, prefix)\n\u001b[1;32m    134\u001b[0m \u001b[38;5;28;01mif\u001b[39;00m pair \u001b[38;5;129;01mnot\u001b[39;00m \u001b[38;5;129;01min\u001b[39;00m memo:\n\u001b[0;32m--> 135\u001b[0m     memo[pair] \u001b[38;5;241m=\u001b[39m \u001b[43msearch\u001b[49m\u001b[43m(\u001b[49m\u001b[43msuffix\u001b[49m\u001b[43m,\u001b[49m\u001b[43m \u001b[49m\u001b[43mprefix\u001b[49m\u001b[43m)\u001b[49m\n\u001b[1;32m    136\u001b[0m suffix_score, suffix_words \u001b[38;5;241m=\u001b[39m memo[pair]\n\u001b[1;32m    138\u001b[0m \u001b[38;5;28;01myield\u001b[39;00m (prefix_score \u001b[38;5;241m+\u001b[39m suffix_score, [prefix] \u001b[38;5;241m+\u001b[39m suffix_words)\n",
      "    \u001b[0;31m[... skipping similar frames: Segmenter.isegment.<locals>.search at line 140 (30 times), Segmenter.isegment.<locals>.search.<locals>.candidates at line 135 (29 times)]\u001b[0m\n",
      "File \u001b[0;32m/opt/homebrew/lib/python3.11/site-packages/wordsegment/__init__.py:135\u001b[0m, in \u001b[0;36mSegmenter.isegment.<locals>.search.<locals>.candidates\u001b[0;34m()\u001b[0m\n\u001b[1;32m    133\u001b[0m pair \u001b[38;5;241m=\u001b[39m (suffix, prefix)\n\u001b[1;32m    134\u001b[0m \u001b[38;5;28;01mif\u001b[39;00m pair \u001b[38;5;129;01mnot\u001b[39;00m \u001b[38;5;129;01min\u001b[39;00m memo:\n\u001b[0;32m--> 135\u001b[0m     memo[pair] \u001b[38;5;241m=\u001b[39m \u001b[43msearch\u001b[49m\u001b[43m(\u001b[49m\u001b[43msuffix\u001b[49m\u001b[43m,\u001b[49m\u001b[43m \u001b[49m\u001b[43mprefix\u001b[49m\u001b[43m)\u001b[49m\n\u001b[1;32m    136\u001b[0m suffix_score, suffix_words \u001b[38;5;241m=\u001b[39m memo[pair]\n\u001b[1;32m    138\u001b[0m \u001b[38;5;28;01myield\u001b[39;00m (prefix_score \u001b[38;5;241m+\u001b[39m suffix_score, [prefix] \u001b[38;5;241m+\u001b[39m suffix_words)\n",
      "File \u001b[0;32m/opt/homebrew/lib/python3.11/site-packages/wordsegment/__init__.py:140\u001b[0m, in \u001b[0;36mSegmenter.isegment.<locals>.search\u001b[0;34m(text, previous)\u001b[0m\n\u001b[1;32m    136\u001b[0m         suffix_score, suffix_words \u001b[38;5;241m=\u001b[39m memo[pair]\n\u001b[1;32m    138\u001b[0m         \u001b[38;5;28;01myield\u001b[39;00m (prefix_score \u001b[38;5;241m+\u001b[39m suffix_score, [prefix] \u001b[38;5;241m+\u001b[39m suffix_words)\n\u001b[0;32m--> 140\u001b[0m \u001b[38;5;28;01mreturn\u001b[39;00m \u001b[38;5;28;43mmax\u001b[39;49m\u001b[43m(\u001b[49m\u001b[43mcandidates\u001b[49m\u001b[43m(\u001b[49m\u001b[43m)\u001b[49m\u001b[43m)\u001b[49m\n",
      "File \u001b[0;32m/opt/homebrew/lib/python3.11/site-packages/wordsegment/__init__.py:138\u001b[0m, in \u001b[0;36mSegmenter.isegment.<locals>.search.<locals>.candidates\u001b[0;34m()\u001b[0m\n\u001b[1;32m    135\u001b[0m     memo[pair] \u001b[38;5;241m=\u001b[39m search(suffix, prefix)\n\u001b[1;32m    136\u001b[0m suffix_score, suffix_words \u001b[38;5;241m=\u001b[39m memo[pair]\n\u001b[0;32m--> 138\u001b[0m \u001b[38;5;28;01myield\u001b[39;00m (prefix_score \u001b[38;5;241m+\u001b[39m suffix_score, [prefix] \u001b[38;5;241m+\u001b[39m suffix_words)\n",
      "\u001b[0;31mKeyboardInterrupt\u001b[0m: "
     ]
    }
   ],
   "source": [
    "# %%time\n",
    "corpus = []\n",
    "lemmatizer = WordNetLemmatizer()\n",
    "\n",
    "# stop_words = nltk.corpus.stopwords.words(\"english\")\n",
    "# other_exclusions = [\"#ff\", \"ff\", \"rt\", \"\\\"\\\"\\\"\"]\n",
    "# stop_words.extend(other_exclusions)\n",
    "exclusions = [\"#ff\", \"ff\", \"rt\", \"\\\"\\\"\\\"\"]\n",
    "\n",
    "char_regExp = '[,\\?:\\|]'\n",
    "quoteHtml_regExp = '(&#8220;)|(&#8221;)'\n",
    "andHtml_regExp = '(&amp;)'\n",
    "emo_regExp = '&#(\\d+);'\n",
    "space_pattern = '\\s+'\n",
    "giant_url_regex = ('http[s]?://(?:[a-zA-Z]|[0-9]|[$-_@.&+]|'\n",
    "        '[!*\\(\\),]|(?:%[0-9a-fA-F][0-9a-fA-F]))+')\n",
    "mention_regex = '@[\\w\\-]+'\n",
    "\n",
    "def preprocess(tweet):\n",
    "    tweet = re.sub(space_pattern, ' ', tweet)\n",
    "    tweet = re.sub(giant_url_regex, '', tweet)\n",
    "    tweet = re.sub(mention_regex, '', tweet)\n",
    "    tweet = re.sub(char_regExp, '', tweet)\n",
    "    tweet = re.sub(quoteHtml_regExp, '', tweet)\n",
    "    tweet = re.sub(andHtml_regExp, '', tweet)\n",
    "    tweet = re.sub(emo_regExp, '', tweet)\n",
    "#     print(tweet)\n",
    "    \n",
    "    tweet = clean(tweet)                                  # 3.1.3 - cleaning data for segmentation\n",
    "    words = segment(tweet)                                # 3.1.3 - word segmentation using word segment module\n",
    "    \n",
    "#     print(\" \".join(words))\n",
    "    filtered_tokens = [w for w in words if not w in exclusions]\n",
    "    \n",
    "#     print(\" \".join(filtered_tokens))\n",
    "    lemmatized_tokens = [lemmatizer.lemmatize(t) for t in filtered_tokens]\n",
    "    \n",
    "    tweet = \" \".join(lemmatized_tokens) # joining the string after split\n",
    "#     print(tweet)\n",
    "    return tweet\n",
    "\n",
    "# preprocess(\"RT @KarenRFM: No-TV-During-the-Week #parenting rule has thrown quite a monkey wrench into #RooseveltsPBS viewing schedule. #DVRtime @wcve #&#8230;,2\")\n",
    "\n",
    "corpus = tweets.swifter.apply(preprocess)"
   ]
  },
  {
   "cell_type": "code",
   "execution_count": 138,
   "id": "6eec14f6",
   "metadata": {},
   "outputs": [
    {
     "data": {
      "text/plain": [
       "0      woman shouldnt complain cleaning house man alw...\n",
       "1      rtboydatscoldtygadwnbad cuffindathoeinthe1st p...\n",
       "2           dawg ever fuck bitch start cry confused shit\n",
       "3                                       look like tranny\n",
       "4         shit hear might true might faker bitch told ya\n",
       "                             ...                        \n",
       "995                                  murda sucking bitch\n",
       "996               bitch youre hobbit need let know right\n",
       "997                               folk bad im talk trash\n",
       "998                             brittany bitch u dog man\n",
       "999                                    smh bitch sell as\n",
       "Name: tweet, Length: 1000, dtype: object"
      ]
     },
     "execution_count": 138,
     "metadata": {},
     "output_type": "execute_result"
    }
   ],
   "source": [
    "corpus"
   ]
  },
  {
   "cell_type": "code",
   "execution_count": 133,
   "id": "cd2c10d8",
   "metadata": {},
   "outputs": [
    {
     "data": {
      "text/plain": [
       "'lmao nigga let go half weed brownie laughing hard shell senior seminar'"
      ]
     },
     "execution_count": 133,
     "metadata": {},
     "output_type": "execute_result"
    }
   ],
   "source": [
    "corpus[958]"
   ]
  },
  {
   "cell_type": "code",
   "execution_count": 134,
   "id": "b1cdc2b3",
   "metadata": {},
   "outputs": [],
   "source": [
    "df1 = pd.DataFrame(corpus)"
   ]
  },
  {
   "cell_type": "code",
   "execution_count": 135,
   "id": "acb6bbb1",
   "metadata": {},
   "outputs": [],
   "source": [
    "df1['ClassLabel'] = ClassLabel "
   ]
  },
  {
   "cell_type": "code",
   "execution_count": 136,
   "id": "63a0f0d9",
   "metadata": {},
   "outputs": [],
   "source": [
    "df1.columns = ['tweets','ClassLabel']"
   ]
  },
  {
   "cell_type": "code",
   "execution_count": 137,
   "id": "d968eac2",
   "metadata": {},
   "outputs": [],
   "source": [
    "df1.to_csv(r'/Users/nguyennhan/Downloads/Main Project/pre-processed.csv', index = False, header=True)"
   ]
  },
  {
   "cell_type": "code",
   "execution_count": null,
   "id": "4e262ed1",
   "metadata": {},
   "outputs": [],
   "source": []
  },
  {
   "cell_type": "code",
   "execution_count": null,
   "id": "4f4f8733",
   "metadata": {},
   "outputs": [],
   "source": []
  }
 ],
 "metadata": {
  "kernelspec": {
   "display_name": "Python 3 (ipykernel)",
   "language": "python",
   "name": "python3"
  },
  "language_info": {
   "codemirror_mode": {
    "name": "ipython",
    "version": 3
   },
   "file_extension": ".py",
   "mimetype": "text/x-python",
   "name": "python",
   "nbconvert_exporter": "python",
   "pygments_lexer": "ipython3",
   "version": "3.11.4"
  }
 },
 "nbformat": 4,
 "nbformat_minor": 5
}
